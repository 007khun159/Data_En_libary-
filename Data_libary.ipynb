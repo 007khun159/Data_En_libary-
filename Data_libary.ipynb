{
  "nbformat": 4,
  "nbformat_minor": 0,
  "metadata": {
    "colab": {
      "provenance": [],
      "collapsed_sections": [],
      "authorship_tag": "ABX9TyMtJrsl3gxorBr7AfywkAnU",
      "include_colab_link": true
    },
    "kernelspec": {
      "name": "python3",
      "display_name": "Python 3"
    },
    "language_info": {
      "name": "python"
    }
  },
  "cells": [
    {
      "cell_type": "markdown",
      "metadata": {
        "id": "view-in-github",
        "colab_type": "text"
      },
      "source": [
        "<a href=\"https://colab.research.google.com/github/007khun159/Data_En_libary-/blob/main/Data_libary.ipynb\" target=\"_parent\"><img src=\"https://colab.research.google.com/assets/colab-badge.svg\" alt=\"Open In Colab\"/></a>"
      ]
    },
    {
      "cell_type": "code",
      "execution_count": null,
      "metadata": {
        "colab": {
          "base_uri": "https://localhost:8080/"
        },
        "id": "LEi3FkCVHQL5",
        "outputId": "3f7eed6a-0c24-4130-88a6-945b8acb17d7"
      },
      "outputs": [
        {
          "output_type": "stream",
          "name": "stdout",
          "text": [
            "[2 3 4 5]\n",
            "[[1 3]\n",
            " [4 6]]\n"
          ]
        }
      ],
      "source": [
        "import numpy as np \n",
        "array1 = np.array(range(2,6))\n",
        "print(array1)\n",
        "array2 = np.array([[1,3],[4,6]])\n",
        "print(array2)"
      ]
    },
    {
      "cell_type": "code",
      "source": [
        "#Example random.rand\n",
        "\n",
        "data = np.random.rand(2,4)\n",
        "print(data)"
      ],
      "metadata": {
        "colab": {
          "base_uri": "https://localhost:8080/"
        },
        "id": "8YBGsA9eH6B1",
        "outputId": "6b617077-0fb4-4c65-bf91-29d1c79b4218"
      },
      "execution_count": null,
      "outputs": [
        {
          "output_type": "stream",
          "name": "stdout",
          "text": [
            "[[0.15759923 0.49454254 0.72208911 0.56650815]\n",
            " [0.62524607 0.90661483 0.82888073 0.76675429]]\n"
          ]
        }
      ]
    },
    {
      "cell_type": "code",
      "source": [
        "\n",
        "#Example by Unifrom \n",
        "\n",
        "data = np.random.uniform(1,10,(2,4))\n",
        "print(data)"
      ],
      "metadata": {
        "colab": {
          "base_uri": "https://localhost:8080/"
        },
        "id": "ERnGb4WbK7n1",
        "outputId": "cc9caca0-4b46-4976-b4f6-43d0713622ee"
      },
      "execution_count": null,
      "outputs": [
        {
          "output_type": "stream",
          "name": "stdout",
          "text": [
            "[[6.82339733 5.24174103 7.24991631 8.25996717]\n",
            " [6.44052811 7.83551216 2.87425028 7.77178313]]\n"
          ]
        }
      ]
    },
    {
      "cell_type": "code",
      "source": [
        "#Example1 method array\n",
        "\n",
        "\n",
        "data = np.array([[2,4,6],[3,5,7],[8,6,4]])\n",
        "print(data)"
      ],
      "metadata": {
        "colab": {
          "base_uri": "https://localhost:8080/"
        },
        "id": "RaT4wPXqLDSs",
        "outputId": "9e2396e2-ed1e-4193-c75f-ef5d16153c61"
      },
      "execution_count": null,
      "outputs": [
        {
          "output_type": "stream",
          "name": "stdout",
          "text": [
            "[[2 4 6]\n",
            " [3 5 7]\n",
            " [8 6 4]]\n"
          ]
        }
      ]
    },
    {
      "cell_type": "code",
      "source": [
        "#Example2 method array\n",
        "\n",
        "\n",
        "d_array = np.array([[2,4,6],[3,5,7],[8,6,4]])\n",
        "print(type(data))\n",
        "print('List of d_array')\n",
        "print(d_array)\n",
        "\n",
        "\n",
        "data = np.array(d_array)\n",
        "print(type(data))\n",
        "print('data is')\n",
        "print(data)\n"
      ],
      "metadata": {
        "colab": {
          "base_uri": "https://localhost:8080/"
        },
        "id": "QWHwcCS_L4YF",
        "outputId": "648e21fa-8ff6-49fd-8fd9-97fd52ace3ef"
      },
      "execution_count": null,
      "outputs": [
        {
          "output_type": "stream",
          "name": "stdout",
          "text": [
            "<class 'numpy.ndarray'>\n",
            "List of d_array\n",
            "[[2 4 6]\n",
            " [3 5 7]\n",
            " [8 6 4]]\n",
            "<class 'numpy.ndarray'>\n",
            "data is\n",
            "[[2 4 6]\n",
            " [3 5 7]\n",
            " [8 6 4]]\n"
          ]
        }
      ]
    },
    {
      "cell_type": "code",
      "source": [
        "#Method arange\n",
        "\n",
        "\n",
        "data_array = np.arange(10)\n",
        "print(data_array)"
      ],
      "metadata": {
        "colab": {
          "base_uri": "https://localhost:8080/"
        },
        "id": "VQ0BNMBKMYyU",
        "outputId": "d4624cb7-dd1d-4b42-931e-294db5751b23"
      },
      "execution_count": null,
      "outputs": [
        {
          "output_type": "stream",
          "name": "stdout",
          "text": [
            "[0 1 2 3 4 5 6 7 8 9]\n"
          ]
        }
      ]
    },
    {
      "cell_type": "code",
      "source": [
        "#Method linspace \n",
        "d_array = np.linspace(1,9,6)\n",
        "print(d_array)"
      ],
      "metadata": {
        "colab": {
          "base_uri": "https://localhost:8080/"
        },
        "id": "G3X1XuIxMkpz",
        "outputId": "dde3db94-3536-48b8-8499-df61c97d0396"
      },
      "execution_count": null,
      "outputs": [
        {
          "output_type": "stream",
          "name": "stdout",
          "text": [
            "[1.  2.6 4.2 5.8 7.4 9. ]\n"
          ]
        }
      ]
    },
    {
      "cell_type": "code",
      "source": [
        "#Method  Zeros\n",
        "data_array_zeros = np.zeros((3,2),dtype = np.int32)\n",
        "print(data_array_zeros)"
      ],
      "metadata": {
        "colab": {
          "base_uri": "https://localhost:8080/"
        },
        "id": "WuexYtRGMw0L",
        "outputId": "a0873416-ed17-4a12-a1f2-a54101e9181f"
      },
      "execution_count": null,
      "outputs": [
        {
          "output_type": "stream",
          "name": "stdout",
          "text": [
            "[[0 0]\n",
            " [0 0]\n",
            " [0 0]]\n"
          ]
        }
      ]
    },
    {
      "cell_type": "code",
      "source": [
        "#Method ones \n",
        "\n",
        "\n",
        "data_array_ones = np.ones((3,2),dtype = np.float32)\n",
        "print(data_array_ones)"
      ],
      "metadata": {
        "colab": {
          "base_uri": "https://localhost:8080/"
        },
        "id": "zEvKXVzhNMFD",
        "outputId": "f6f79046-6bbf-4f90-b7c5-d61e56786205"
      },
      "execution_count": null,
      "outputs": [
        {
          "output_type": "stream",
          "name": "stdout",
          "text": [
            "[[1. 1.]\n",
            " [1. 1.]\n",
            " [1. 1.]]\n"
          ]
        }
      ]
    },
    {
      "cell_type": "code",
      "source": [
        "#Method identity  / eye\n",
        "\n",
        "\n",
        "i_matrix = np.identity(3,dtype=np.int64)\n",
        "print(i_matrix)"
      ],
      "metadata": {
        "colab": {
          "base_uri": "https://localhost:8080/"
        },
        "id": "OL3pNYWMNeQq",
        "outputId": "8e1d295b-68c4-4aa7-db36-c725ad1ca554"
      },
      "execution_count": null,
      "outputs": [
        {
          "output_type": "stream",
          "name": "stdout",
          "text": [
            "[[1 0 0]\n",
            " [0 1 0]\n",
            " [0 0 1]]\n"
          ]
        }
      ]
    },
    {
      "cell_type": "code",
      "source": [
        "i_matrix = np.eye(3,dtype=np.int64)\n",
        "print(i_matrix)"
      ],
      "metadata": {
        "colab": {
          "base_uri": "https://localhost:8080/"
        },
        "id": "i-lcWKSEN6-T",
        "outputId": "dc433e8c-8cf6-417d-d62f-09bc37c7f450"
      },
      "execution_count": null,
      "outputs": [
        {
          "output_type": "stream",
          "name": "stdout",
          "text": [
            "[[1 0 0]\n",
            " [0 1 0]\n",
            " [0 0 1]]\n"
          ]
        }
      ]
    },
    {
      "cell_type": "code",
      "source": [
        "i_matrix = np.eye(3,4,dtype=np.int64)\n",
        "print(i_matrix)"
      ],
      "metadata": {
        "colab": {
          "base_uri": "https://localhost:8080/"
        },
        "id": "TsHQB0vtOLM7",
        "outputId": "83306e76-364f-47fc-e8a3-d8ffc3e93501"
      },
      "execution_count": null,
      "outputs": [
        {
          "output_type": "stream",
          "name": "stdout",
          "text": [
            "[[1 0 0 0]\n",
            " [0 1 0 0]\n",
            " [0 0 1 0]]\n"
          ]
        }
      ]
    },
    {
      "cell_type": "code",
      "source": [
        "#Method size(example)\n",
        "\n",
        "d_array = np.array([[2,4,6],[3,5,7],[8,6,4]])\n",
        "print(d_array)\n",
        "d_array.size"
      ],
      "metadata": {
        "colab": {
          "base_uri": "https://localhost:8080/"
        },
        "id": "2_cKBxCEOOlq",
        "outputId": "708bc8fa-83bc-4453-9391-5847906b96cb"
      },
      "execution_count": null,
      "outputs": [
        {
          "output_type": "stream",
          "name": "stdout",
          "text": [
            "[[2 4 6]\n",
            " [3 5 7]\n",
            " [8 6 4]]\n"
          ]
        },
        {
          "output_type": "execute_result",
          "data": {
            "text/plain": [
              "9"
            ]
          },
          "metadata": {},
          "execution_count": 20
        }
      ]
    },
    {
      "cell_type": "code",
      "source": [
        "data_array = np.arange(10)\n",
        "print(data_array)\n",
        "data_array.size"
      ],
      "metadata": {
        "colab": {
          "base_uri": "https://localhost:8080/"
        },
        "id": "EXqVeqkPOtPz",
        "outputId": "15ee722e-2b53-445b-e59c-e92f22a083a5"
      },
      "execution_count": null,
      "outputs": [
        {
          "output_type": "stream",
          "name": "stdout",
          "text": [
            "[0 1 2 3 4 5 6 7 8 9]\n"
          ]
        },
        {
          "output_type": "execute_result",
          "data": {
            "text/plain": [
              "10"
            ]
          },
          "metadata": {},
          "execution_count": 21
        }
      ]
    },
    {
      "cell_type": "code",
      "source": [
        "#Method shape (example)\n",
        "\n",
        "d_array1 = np.array([[2,4,6],[3,5,7],[8,6,4]])\n",
        "print(d_array1)\n",
        "d_array.shape"
      ],
      "metadata": {
        "colab": {
          "base_uri": "https://localhost:8080/"
        },
        "id": "Gw4LixNHO-l5",
        "outputId": "f91c9f26-c145-4399-bc08-650cbf157c84"
      },
      "execution_count": null,
      "outputs": [
        {
          "output_type": "stream",
          "name": "stdout",
          "text": [
            "[[2 4 6]\n",
            " [3 5 7]\n",
            " [8 6 4]]\n"
          ]
        },
        {
          "output_type": "execute_result",
          "data": {
            "text/plain": [
              "(3, 3)"
            ]
          },
          "metadata": {},
          "execution_count": 22
        }
      ]
    },
    {
      "cell_type": "code",
      "source": [
        "d_array2 = np.array([1,2,3])\n",
        "print(d_array2)\n",
        "d_array2.shape"
      ],
      "metadata": {
        "colab": {
          "base_uri": "https://localhost:8080/"
        },
        "id": "yADyP5g-PO_R",
        "outputId": "2808c1f2-e861-47f6-b31b-e0eb346daa4b"
      },
      "execution_count": null,
      "outputs": [
        {
          "output_type": "stream",
          "name": "stdout",
          "text": [
            "[1 2 3]\n"
          ]
        },
        {
          "output_type": "execute_result",
          "data": {
            "text/plain": [
              "(3,)"
            ]
          },
          "metadata": {},
          "execution_count": 24
        }
      ]
    },
    {
      "cell_type": "code",
      "source": [
        "#Method ndim  (example)\n",
        "\n",
        "d_array1 = np.array([[2,4,6],[3,5,7],[8,6,4]])\n",
        "print(d_array1)\n",
        "d_array1.ndim"
      ],
      "metadata": {
        "colab": {
          "base_uri": "https://localhost:8080/"
        },
        "id": "khuEzVHRPofK",
        "outputId": "14abd90f-80c7-4973-8c9c-abac3dff59ae"
      },
      "execution_count": null,
      "outputs": [
        {
          "output_type": "stream",
          "name": "stdout",
          "text": [
            "[[2 4 6]\n",
            " [3 5 7]\n",
            " [8 6 4]]\n"
          ]
        },
        {
          "output_type": "execute_result",
          "data": {
            "text/plain": [
              "2"
            ]
          },
          "metadata": {},
          "execution_count": 25
        }
      ]
    },
    {
      "cell_type": "code",
      "source": [
        "d_array2 = np.array([1,2,3])\n",
        "print(d_array2)\n",
        "d_array2.ndim"
      ],
      "metadata": {
        "colab": {
          "base_uri": "https://localhost:8080/"
        },
        "id": "KsbKkdLSP8HZ",
        "outputId": "93d64584-91ce-4c9f-9457-03a0d3b18364"
      },
      "execution_count": null,
      "outputs": [
        {
          "output_type": "stream",
          "name": "stdout",
          "text": [
            "[1 2 3]\n"
          ]
        },
        {
          "output_type": "execute_result",
          "data": {
            "text/plain": [
              "1"
            ]
          },
          "metadata": {},
          "execution_count": 26
        }
      ]
    },
    {
      "cell_type": "code",
      "source": [
        "#method  astype(example)\n",
        "\n",
        "num_string = np.array(['5.76','-17.6','85'],dtype = np.string_)\n",
        "num = num_string.astype(float)\n",
        "print(num)\n",
        "int_num = num.astype(np.int32)\n",
        "print(int_num)"
      ],
      "metadata": {
        "colab": {
          "base_uri": "https://localhost:8080/"
        },
        "id": "GPwsOqZeREBH",
        "outputId": "1056d896-7b7d-439c-eb26-320975c529b6"
      },
      "execution_count": null,
      "outputs": [
        {
          "output_type": "stream",
          "name": "stdout",
          "text": [
            "[  5.76 -17.6   85.  ]\n",
            "[  5 -17  85]\n"
          ]
        }
      ]
    },
    {
      "cell_type": "code",
      "source": [
        "#method reshape(example)\n",
        "#เปลี่ยนรูปร่าง\n",
        "array1 = np.arange(12)\n",
        "print(array1)"
      ],
      "metadata": {
        "colab": {
          "base_uri": "https://localhost:8080/"
        },
        "id": "6MYWDGF-RkeP",
        "outputId": "8d2bdafb-330b-4cda-ddee-736b741dfae9"
      },
      "execution_count": null,
      "outputs": [
        {
          "output_type": "stream",
          "name": "stdout",
          "text": [
            "[ 0  1  2  3  4  5  6  7  8  9 10 11]\n"
          ]
        }
      ]
    },
    {
      "cell_type": "code",
      "source": [
        "array2 = array1.reshape(3,4)\n",
        "print(array2)"
      ],
      "metadata": {
        "colab": {
          "base_uri": "https://localhost:8080/"
        },
        "id": "l2LfIoyzSWT-",
        "outputId": "45fa2b47-baa9-4f3f-beaf-4c853efdb963"
      },
      "execution_count": null,
      "outputs": [
        {
          "output_type": "stream",
          "name": "stdout",
          "text": [
            "[[ 0  1  2  3]\n",
            " [ 4  5  6  7]\n",
            " [ 8  9 10 11]]\n"
          ]
        }
      ]
    },
    {
      "cell_type": "code",
      "source": [
        "array3 = array2.reshape(4,3)\n",
        "print(array3)"
      ],
      "metadata": {
        "colab": {
          "base_uri": "https://localhost:8080/"
        },
        "id": "AtywwypgSjk1",
        "outputId": "e787c5a4-dc67-49e7-d4f2-33acad29d38a"
      },
      "execution_count": null,
      "outputs": [
        {
          "output_type": "stream",
          "name": "stdout",
          "text": [
            "[[ 0  1  2]\n",
            " [ 3  4  5]\n",
            " [ 6  7  8]\n",
            " [ 9 10 11]]\n"
          ]
        }
      ]
    },
    {
      "cell_type": "code",
      "source": [
        "#Method reshape(example cont. in ravel())\n",
        "\n",
        "#ย้อนกลับ\n",
        "array2 = array1.reshape(3,4)\n",
        "print(array2)\n",
        "print(array2.ravel())\n",
        "\n"
      ],
      "metadata": {
        "colab": {
          "base_uri": "https://localhost:8080/"
        },
        "id": "TN1toojPS6J2",
        "outputId": "930e6202-89e1-4f80-df00-14216c1f3070"
      },
      "execution_count": null,
      "outputs": [
        {
          "output_type": "stream",
          "name": "stdout",
          "text": [
            "[[ 0  1  2  3]\n",
            " [ 4  5  6  7]\n",
            " [ 8  9 10 11]]\n",
            "[ 0  1  2  3  4  5  6  7  8  9 10 11]\n"
          ]
        }
      ]
    },
    {
      "cell_type": "code",
      "source": [
        "array3 = array2.reshape(4,3)\n",
        "print(array3)\n",
        "print(array3.ravel())"
      ],
      "metadata": {
        "colab": {
          "base_uri": "https://localhost:8080/"
        },
        "id": "sz72aIa0TPGl",
        "outputId": "783f4272-1a50-468c-d049-556d0cf36546"
      },
      "execution_count": null,
      "outputs": [
        {
          "output_type": "stream",
          "name": "stdout",
          "text": [
            "[[ 0  1  2]\n",
            " [ 3  4  5]\n",
            " [ 6  7  8]\n",
            " [ 9 10 11]]\n",
            "[ 0  1  2  3  4  5  6  7  8  9 10 11]\n"
          ]
        }
      ]
    },
    {
      "cell_type": "code",
      "source": [
        "# Slide after 41"
      ],
      "metadata": {
        "id": "YJ7upN_qTYTs"
      },
      "execution_count": null,
      "outputs": []
    },
    {
      "cell_type": "code",
      "source": [
        "#อ้างอิงต่ำแหน่งของข้อมูล\n",
        "\n",
        "\n",
        "array = np.array([[3,5,7],[4,8,16]])\n",
        "print(\"row 0 column 0 is\",array[0][0])\n",
        "print('row 1 column 2 is',array[1][2])"
      ],
      "metadata": {
        "colab": {
          "base_uri": "https://localhost:8080/"
        },
        "id": "lAaPfgaXT-WV",
        "outputId": "af105c1e-bef2-4678-d484-ad897930249d"
      },
      "execution_count": null,
      "outputs": [
        {
          "output_type": "stream",
          "name": "stdout",
          "text": [
            "row 0 column 0 is 3\n",
            "row 1 column 2 is 16\n"
          ]
        }
      ]
    },
    {
      "cell_type": "code",
      "source": [
        "array = np.array([[3,5,7],[4,8,16]])\n",
        "print('all elements in row1',array[1][:])\n",
        "print('all elements in row1',array[:][1])\n",
        "\n",
        "#another style\n",
        "\n",
        "print('all elements in row1',array[1,:])\n",
        "print('all elments in column1 ',array [:,1])\n",
        "\n",
        "\n"
      ],
      "metadata": {
        "colab": {
          "base_uri": "https://localhost:8080/"
        },
        "id": "m3Xu1IJ9VFYF",
        "outputId": "6e71948a-dee4-4c28-96c3-33cd7e290152"
      },
      "execution_count": null,
      "outputs": [
        {
          "output_type": "stream",
          "name": "stdout",
          "text": [
            "all elements in row1 [ 4  8 16]\n",
            "all elements in row1 [ 4  8 16]\n",
            "all elements in row1 [ 4  8 16]\n",
            "all elments in column1  [5 8]\n"
          ]
        }
      ]
    },
    {
      "cell_type": "code",
      "source": [
        "#Indexing and slicing 1 \n",
        "\n",
        "arr = np.array([[1,2,3],[4,5,6]])\n",
        "c_array = arr.copy()\n",
        "print(arr)\n",
        "print(c_array)\n",
        "print(c_array[1:])\n",
        "arr[1:] =99\n",
        "print(arr)"
      ],
      "metadata": {
        "colab": {
          "base_uri": "https://localhost:8080/"
        },
        "id": "GThfO7fNVhVU",
        "outputId": "be3018a4-1669-43b0-a461-b8f3e55e5b91"
      },
      "execution_count": null,
      "outputs": [
        {
          "output_type": "stream",
          "name": "stdout",
          "text": [
            "[[1 2 3]\n",
            " [4 5 6]]\n",
            "[[1 2 3]\n",
            " [4 5 6]]\n",
            "[[4 5 6]]\n",
            "[[ 1  2  3]\n",
            " [99 99 99]]\n"
          ]
        }
      ]
    },
    {
      "cell_type": "code",
      "source": [
        "#Indexing and slicing 2\n",
        "arr_2d = np.arange(12).reshape(3,4)\n",
        "print(arr_2d)\n",
        "print(arr_2d[:2,1:])\n",
        "print()\n",
        "arr_2d_copy = arr_2d.copy()\n",
        "print(arr_2d_copy)\n",
        "print()\n",
        "arr_2d_copy[1:,:]= 5\n",
        "print(arr_2d_copy)\n",
        "print(arr_2d)"
      ],
      "metadata": {
        "colab": {
          "base_uri": "https://localhost:8080/"
        },
        "id": "ZNTnl9dIWcTD",
        "outputId": "ddb611fb-c4bc-4a74-bf7a-54c06ac4155b"
      },
      "execution_count": null,
      "outputs": [
        {
          "output_type": "stream",
          "name": "stdout",
          "text": [
            "[[ 0  1  2  3]\n",
            " [ 4  5  6  7]\n",
            " [ 8  9 10 11]]\n",
            "[[1 2 3]\n",
            " [5 6 7]]\n",
            "\n",
            "[[ 0  1  2  3]\n",
            " [ 4  5  6  7]\n",
            " [ 8  9 10 11]]\n",
            "\n",
            "[[0 1 2 3]\n",
            " [5 5 5 5]\n",
            " [5 5 5 5]]\n",
            "[[ 0  1  2  3]\n",
            " [ 4  5  6  7]\n",
            " [ 8  9 10 11]]\n"
          ]
        }
      ]
    },
    {
      "cell_type": "code",
      "source": [
        "#Boolean indexing \n",
        "\n",
        "data = np.random.randn(6,3)\n",
        "print(data)\n",
        "data[data<0]  =0 \n",
        "print(data)"
      ],
      "metadata": {
        "colab": {
          "base_uri": "https://localhost:8080/"
        },
        "id": "imbFx9DKYg0h",
        "outputId": "aca3a35b-f241-4484-c262-2e9a40fad566"
      },
      "execution_count": null,
      "outputs": [
        {
          "output_type": "stream",
          "name": "stdout",
          "text": [
            "[[-0.65571725  0.42538206  0.97061939]\n",
            " [-0.86918444  2.14620015  0.26074717]\n",
            " [ 0.23627126  2.01500324  0.10114325]\n",
            " [ 1.01608268 -0.64752244 -1.20438919]\n",
            " [-0.82643117 -0.17708849  0.32088918]\n",
            " [ 0.95088817 -0.91163606  1.30915272]]\n",
            "[[0.         0.42538206 0.97061939]\n",
            " [0.         2.14620015 0.26074717]\n",
            " [0.23627126 2.01500324 0.10114325]\n",
            " [1.01608268 0.         0.        ]\n",
            " [0.         0.         0.32088918]\n",
            " [0.95088817 0.         1.30915272]]\n"
          ]
        }
      ]
    },
    {
      "cell_type": "code",
      "source": [
        "arr = np.arange(1,11)\n",
        "arr2 = arr>7\n",
        "print(arr)\n",
        "print(arr2)"
      ],
      "metadata": {
        "colab": {
          "base_uri": "https://localhost:8080/"
        },
        "id": "XvhUVxgUau_v",
        "outputId": "0404510c-4d31-49fe-c4f0-45bb90578dbc"
      },
      "execution_count": null,
      "outputs": [
        {
          "output_type": "stream",
          "name": "stdout",
          "text": [
            "[ 1  2  3  4  5  6  7  8  9 10]\n",
            "[False False False False False False False  True  True  True]\n"
          ]
        }
      ]
    },
    {
      "cell_type": "code",
      "source": [
        "names  = np.array(['Tom','Eddy','Mary','Tom','Bill','Tom','Eddy'])\n",
        "names == 'Eddy'\n"
      ],
      "metadata": {
        "colab": {
          "base_uri": "https://localhost:8080/"
        },
        "id": "WOfqDYTDbO0F",
        "outputId": "de5c3efc-daae-4df2-9ee1-f1a7a4b39d78"
      },
      "execution_count": null,
      "outputs": [
        {
          "output_type": "execute_result",
          "data": {
            "text/plain": [
              "array([False,  True, False, False, False, False,  True])"
            ]
          },
          "metadata": {},
          "execution_count": 50
        }
      ]
    },
    {
      "cell_type": "code",
      "source": [
        "#Error เกิดจากจำนวนของ Metrix ที่ไม่เท่ากันของ names\n",
        "names  = np.array(['Tom','Eddy','Mary','Tom','Bill','Eddy'])\n",
        "data = np.random.randn(6,4)\n",
        "print(names)\n",
        "print(data,'\\n')\n",
        "print(data[names == 'Eddy'])"
      ],
      "metadata": {
        "colab": {
          "base_uri": "https://localhost:8080/"
        },
        "id": "mi_Ecopob76m",
        "outputId": "3bed44a8-48ca-4e99-db39-0442cd2b7dbe"
      },
      "execution_count": null,
      "outputs": [
        {
          "output_type": "stream",
          "name": "stdout",
          "text": [
            "['Tom' 'Eddy' 'Mary' 'Tom' 'Bill' 'Eddy']\n",
            "[[ 0.0427405  -0.71666834  0.39939026  0.43751102]\n",
            " [-1.04302954 -0.34423027 -0.79737487  0.94498148]\n",
            " [ 0.04102763 -0.27624524 -0.7854206   1.20611357]\n",
            " [-0.62031353  0.25390687  0.18225921  0.26858202]\n",
            " [ 1.09420307 -1.13561796  0.73554237  0.2393857 ]\n",
            " [-0.25043578  0.88128922 -0.4704835   1.22417754]] \n",
            "\n",
            "[[-1.04302954 -0.34423027 -0.79737487  0.94498148]\n",
            " [-0.25043578  0.88128922 -0.4704835   1.22417754]]\n"
          ]
        }
      ]
    },
    {
      "cell_type": "code",
      "source": [
        "#Matrix caculate\n",
        "\n",
        "arr  = np.empty((6,4))\n",
        "for i in range(6):\n",
        "  arr[i]=i\n",
        "print(arr)\n",
        "print(arr[[3,2,5]])\n",
        "arr1 = np.arange(24).reshape(6,4)\n",
        "print(arr1)\n",
        "print(arr1[[3,2,5],[2,0,1]])"
      ],
      "metadata": {
        "colab": {
          "base_uri": "https://localhost:8080/"
        },
        "id": "WHLyqTPlekOL",
        "outputId": "2dc3a019-1039-42d2-a96d-80b1a164869a"
      },
      "execution_count": null,
      "outputs": [
        {
          "output_type": "stream",
          "name": "stdout",
          "text": [
            "[[0. 0. 0. 0.]\n",
            " [1. 1. 1. 1.]\n",
            " [2. 2. 2. 2.]\n",
            " [3. 3. 3. 3.]\n",
            " [4. 4. 4. 4.]\n",
            " [5. 5. 5. 5.]]\n",
            "[[3. 3. 3. 3.]\n",
            " [2. 2. 2. 2.]\n",
            " [5. 5. 5. 5.]]\n",
            "[[ 0  1  2  3]\n",
            " [ 4  5  6  7]\n",
            " [ 8  9 10 11]\n",
            " [12 13 14 15]\n",
            " [16 17 18 19]\n",
            " [20 21 22 23]]\n",
            "[14  8 21]\n"
          ]
        }
      ]
    },
    {
      "cell_type": "code",
      "source": [
        "#Unary Universal Function\n",
        "\n",
        "\n",
        "array1 = np.array([2.2,3.4,4.6])\n",
        "print(array1)\n",
        "print(np.ceil(array1))\n",
        "print(np.floor(array1))\n",
        "print(np.exp(array1))\n",
        "print(np.sqrt(array1))"
      ],
      "metadata": {
        "colab": {
          "base_uri": "https://localhost:8080/"
        },
        "id": "L38O4-Y-gt9y",
        "outputId": "24b6fa89-26ab-45cc-8f2e-3648398e2e5f"
      },
      "execution_count": null,
      "outputs": [
        {
          "output_type": "stream",
          "name": "stdout",
          "text": [
            "[2.2 3.4 4.6]\n",
            "[3. 4. 5.]\n",
            "[2. 3. 4.]\n",
            "[ 9.0250135  29.96410005 99.48431564]\n",
            "[1.4832397  1.84390889 2.14476106]\n"
          ]
        }
      ]
    },
    {
      "cell_type": "code",
      "source": [
        "array1 = np.arange(2,6)\n",
        "array2 = np.arange(1,5)\n",
        "print(array1,array2)\n",
        "print(np.add(array1,array2))\n",
        "print(np.subtract(array1,array2))\n",
        "print(np.multiply(array1,array2))\n",
        "print(np.power(array1,array2))\n",
        "print(np.maximum(array1,array2))\n",
        "print(np.mod(array1,array2))"
      ],
      "metadata": {
        "colab": {
          "base_uri": "https://localhost:8080/"
        },
        "id": "J8nMP3_WiDeR",
        "outputId": "1fff19ae-8f2d-446d-b866-f079b78b626b"
      },
      "execution_count": null,
      "outputs": [
        {
          "output_type": "stream",
          "name": "stdout",
          "text": [
            "[2 3 4 5] [1 2 3 4]\n",
            "[3 5 7 9]\n",
            "[1 1 1 1]\n",
            "[ 2  6 12 20]\n",
            "[  2   9  64 625]\n",
            "[2 3 4 5]\n",
            "[0 1 1 1]\n"
          ]
        }
      ]
    },
    {
      "cell_type": "code",
      "source": [
        "#Bassic array Statisticla Methods\n",
        "array = np.random.randn(3,4)\n",
        "print(array)\n",
        "print('mean =',array.mean())\n",
        "print(np.mean(array))\n",
        "print('sum =',array.sum())\n",
        "print('std =',array.std())"
      ],
      "metadata": {
        "colab": {
          "base_uri": "https://localhost:8080/"
        },
        "id": "v7zJGJB1jh83",
        "outputId": "50263305-290f-49cd-be13-42d28166342f"
      },
      "execution_count": null,
      "outputs": [
        {
          "output_type": "stream",
          "name": "stdout",
          "text": [
            "[[-0.86179128  2.14788996 -0.25830957 -0.43150677]\n",
            " [ 0.93078353  0.02455854  0.99120536 -0.28926786]\n",
            " [-1.81897937  0.8038274   0.701592    1.14735954]]\n",
            "mean = 0.257280122348535\n",
            "0.257280122348535\n",
            "sum = 3.0873614681824195\n",
            "std = 1.021083387469205\n"
          ]
        }
      ]
    },
    {
      "cell_type": "code",
      "source": [
        "arry = np.array([[1,2],[3,4],[5,6]])\n",
        "print(\"array =\",arry)\n",
        "print('cumsum :',arry.cumsum())\n",
        "print('cumsum axis =1 :')\n",
        "print(arry.cumsum(axis=1))\n",
        "print(arry.cumprod(axis=0))"
      ],
      "metadata": {
        "colab": {
          "base_uri": "https://localhost:8080/"
        },
        "id": "P3aEDvXgkKXl",
        "outputId": "ab217418-edf3-48b7-882a-a7723f9cd180"
      },
      "execution_count": null,
      "outputs": [
        {
          "output_type": "stream",
          "name": "stdout",
          "text": [
            "array = [[1 2]\n",
            " [3 4]\n",
            " [5 6]]\n",
            "cumsum : [ 1  3  6 10 15 21]\n",
            "cumsum axis =1 :\n",
            "[[ 1  3]\n",
            " [ 3  7]\n",
            " [ 5 11]]\n",
            "[[ 1  2]\n",
            " [ 3  8]\n",
            " [15 48]]\n"
          ]
        }
      ]
    },
    {
      "cell_type": "code",
      "source": [
        "scores  =[53 ,#score1\n",
        "          43,#score2\n",
        "          39,#score3\n",
        "          93,#score4\n",
        "          28] #score5\n",
        "\n",
        "bmi = [150,50,22.2] #height , weight,BMI"
      ],
      "metadata": {
        "id": "Hi3H-IftlJnV"
      },
      "execution_count": null,
      "outputs": []
    }
  ]
}